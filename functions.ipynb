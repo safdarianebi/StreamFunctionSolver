{
 "cells": [
  {
   "cell_type": "code",
   "execution_count": 1,
   "id": "21c9698a-8778-435b-884f-347448b988b9",
   "metadata": {},
   "outputs": [],
   "source": [
    "import math\n",
    "import pandas as pd\n",
    "import numpy as np\n",
    "from matplotlib import pyplot as plt"
   ]
  },
  {
   "cell_type": "markdown",
   "id": "a4756d08-c708-45ca-b469-f2cc296dc24c",
   "metadata": {},
   "source": [
    "# Contour Plotter"
   ]
  },
  {
   "cell_type": "code",
   "execution_count": 3,
   "id": "fe1d7ce1-1872-49d9-ba55-8be88c704d69",
   "metadata": {},
   "outputs": [],
   "source": [
    "def contour_plotter(fs, x, y, psi_calculated, N, label):\n",
    "    \n",
    "    fig = plt.figure(figsize=fs)\n",
    "    X, Y = np.meshgrid(x, y)\n",
    "    levels = np.linspace(np.min(psi_calculated), np.max(psi_calculated), N)\n",
    "    zdata = psi_calculated\n",
    "\n",
    "    plt.contourf(X, -Y, zdata, levels=levels, cmap='rainbow')\n",
    "    plt.colorbar()\n",
    "    plt.xlabel('X')\n",
    "    plt.ylabel('Y')\n",
    "    plt.title(label)\n",
    "    plt.show()\n",
    "    "
   ]
  },
  {
   "cell_type": "markdown",
   "id": "0604e74c-35b9-486a-a913-4b42ae97a1ba",
   "metadata": {
    "tags": []
   },
   "source": [
    "# Vector Plotter"
   ]
  },
  {
   "cell_type": "code",
   "execution_count": 4,
   "id": "1ebca23d-3529-4c32-bc1a-092ae38894a3",
   "metadata": {},
   "outputs": [],
   "source": [
    "def vector_plotter(x, y, u, v, title, colormap):\n",
    "    X, Y = np.meshgrid(x, y)\n",
    "    U = u\n",
    "    V = v\n",
    "\n",
    "    # Calculate vector magnitude\n",
    "    magnitude = np.sqrt(U**2 + V**2)\n",
    "\n",
    "    # Normalize magnitude to range [0, 1]\n",
    "    norm_magnitude = (magnitude - magnitude.min()) / (magnitude.max() - magnitude.min())\n",
    "\n",
    "    # Create a colormap\n",
    "    cmap = plt.get_cmap(colormap)\n",
    "\n",
    "    # Create a figure and plot colorful vectors\n",
    "    fig, ax = plt.subplots(figsize=(20, 8))\n",
    "    q = ax.quiver(X, -Y, U, V, norm_magnitude, cmap=cmap)\n",
    "    cbar = plt.colorbar(q)\n",
    "\n",
    "    # Customize the plot\n",
    "    ax.set_xlabel('X')\n",
    "    ax.set_ylabel('Y')\n",
    "    ax.set_title(title)\n",
    "\n",
    "    plt.show()"
   ]
  },
  {
   "cell_type": "code",
   "execution_count": null,
   "id": "507c4a1f-ed32-4705-8a45-bf2b5ba8d25e",
   "metadata": {},
   "outputs": [],
   "source": []
  }
 ],
 "metadata": {
  "kernelspec": {
   "display_name": "Python 3 (ipykernel)",
   "language": "python",
   "name": "python3"
  },
  "language_info": {
   "codemirror_mode": {
    "name": "ipython",
    "version": 3
   },
   "file_extension": ".py",
   "mimetype": "text/x-python",
   "name": "python",
   "nbconvert_exporter": "python",
   "pygments_lexer": "ipython3",
   "version": "3.8.13"
  }
 },
 "nbformat": 4,
 "nbformat_minor": 5
}
